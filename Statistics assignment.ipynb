{
 "cells": [
  {
   "cell_type": "markdown",
   "metadata": {},
   "source": [
    "Task 1:\n",
    "1.You survey households in your area to find the average rent they are paying. Find the standard deviation from the following data:\n",
    "$1550, $1700, $900, $850, $1000, $950."
   ]
  },
  {
   "cell_type": "code",
   "execution_count": null,
   "metadata": {},
   "outputs": [],
   "source": [
    "import statistics as stat"
   ]
  },
  {
   "cell_type": "code",
   "execution_count": 2,
   "metadata": {},
   "outputs": [
    {
     "name": "stdout",
     "output_type": "stream",
     "text": [
      " standard deviation of rent is: $ 367.9900360969936\n"
     ]
    }
   ],
   "source": [
    "a = [1550, 1700, 900, 850, 1000, 950]\n",
    "print(\" standard deviation of rent is:\",\"$\",stat.stdev(a))"
   ]
  },
  {
   "cell_type": "markdown",
   "metadata": {},
   "source": [
    "2. Find the variance for the following set of data representing trees in California (heights in feet):\n",
    "3, 21, 98, 203, 17, 9"
   ]
  },
  {
   "cell_type": "code",
   "execution_count": 12,
   "metadata": {},
   "outputs": [
    {
     "name": "stdout",
     "output_type": "stream",
     "text": [
      "5183.25\n",
      "6219.9\n"
     ]
    }
   ],
   "source": [
    "import numpy as np\n",
    "value = [3, 21, 98, 203, 17, 9]\n",
    "var = np.var(value)\n",
    "print(var)\n",
    "\n",
    "var1 = stat.variance(value)\n",
    "print(var1)"
   ]
  },
  {
   "cell_type": "markdown",
   "metadata": {},
   "source": [
    "In a class on 100 students, 80 students passed in all subjects, 10 failed in one subject, 7 failed in two subjects and 3 failed in three subjects. Find the probability distribution of the variable for number of subjects a student from the given class has failed in."
   ]
  },
  {
   "cell_type": "code",
   "execution_count": 21,
   "metadata": {},
   "outputs": [
    {
     "name": "stdout",
     "output_type": "stream",
     "text": [
      "probability of number of student failed in one subject: 0.1\n",
      "Probability of number of student failed in two subject: 0.07\n",
      "Probability of number of student failed in three subject: 0.03\n"
     ]
    }
   ],
   "source": [
    "#number of student (n)\n",
    "n = 100\n",
    "# 10 out of 100 failed in one subject, in that case, probability of student failing in one subject\n",
    "x = 10/100\n",
    "print(\"probability of number of student failed in one subject:\", x)\n",
    "# 7 failed in two subjects\n",
    "y = 7/100\n",
    "print(\"Probability of number of student failed in two subject:\", y)\n",
    "# 3 failed in three subjects\n",
    "z = 3/100\n",
    "print(\"Probability of number of student failed in three subject:\", z)\n",
    "\n"
   ]
  },
  {
   "cell_type": "markdown",
   "metadata": {},
   "source": [
    "Task 2:"
   ]
  },
  {
   "cell_type": "markdown",
   "metadata": {},
   "source": [
    "1.A test is conducted which is consisting of 20 MCQs (multiple choices questions) with every MCQ having its four options out of which only one is correct. Determine the probability that a person undertaking that test has answered exactly 5 questions wrong."
   ]
  },
  {
   "cell_type": "code",
   "execution_count": 27,
   "metadata": {},
   "outputs": [
    {
     "name": "stdout",
     "output_type": "stream",
     "text": [
      "probability of wrong answer is: 0.25\n",
      "probability of correct answer is: 0.75\n"
     ]
    }
   ],
   "source": [
    "# number of mcq are 20\n",
    "mcq = 20\n",
    "incans=5\n",
    "corans=15\n",
    "incprob=incans/mcq\n",
    "corrprob = corans/mcq\n",
    "print(\"probability of wrong answer is:\", incprob)\n",
    "print(\"probability of correct answer is:\", corrprob)"
   ]
  },
  {
   "cell_type": "markdown",
   "metadata": {},
   "source": [
    "2.A die marked A to E is rolled 50 times. Find the probability of getting a “D” exactly 5 times.\n"
   ]
  },
  {
   "cell_type": "code",
   "execution_count": 30,
   "metadata": {},
   "outputs": [
    {
     "name": "stdout",
     "output_type": "stream",
     "text": [
      "probability of getting D 5 times: 0.02\n"
     ]
    }
   ],
   "source": [
    "#number of roll\n",
    "n = 50\n",
    "#probability of getting d 5 times\n",
    "y = 1/50\n",
    "print(\"probability of getting D 5 times:\", y)"
   ]
  },
  {
   "cell_type": "code",
   "execution_count": null,
   "metadata": {},
   "outputs": [],
   "source": []
  }
 ],
 "metadata": {
  "kernelspec": {
   "display_name": "Python 3",
   "language": "python",
   "name": "python3"
  },
  "language_info": {
   "codemirror_mode": {
    "name": "ipython",
    "version": 3
   },
   "file_extension": ".py",
   "mimetype": "text/x-python",
   "name": "python",
   "nbconvert_exporter": "python",
   "pygments_lexer": "ipython3",
   "version": "3.6.4"
  }
 },
 "nbformat": 4,
 "nbformat_minor": 2
}
